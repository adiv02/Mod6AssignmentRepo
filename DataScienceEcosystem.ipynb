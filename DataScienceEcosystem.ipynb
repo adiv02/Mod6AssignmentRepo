{
 "cells": [
  {
   "cell_type": "markdown",
   "id": "5ea13a4d-8a18-4ab9-aa9b-c13f71091f17",
   "metadata": {},
   "source": [
    "# Data Science Tools and Ecosystem"
   ]
  },
  {
   "cell_type": "markdown",
   "id": "868cfe3d-d8bf-4935-94d7-b4bad8833a69",
   "metadata": {},
   "source": [
    "In this notebook, Data Science Tools and Ecosytem are summarized."
   ]
  },
  {
   "cell_type": "markdown",
   "id": "bcc9264e-0a58-4dd4-9ecf-3588bc005a3a",
   "metadata": {},
   "source": [
    "# **Objectives:**\n",
    "- List Data Science Languages\n",
    "- List Data Science Libraries\n",
    "- List Data Scince Tools\n",
    "- Evaluate Arithmentic expressions"
   ]
  },
  {
   "cell_type": "markdown",
   "id": "ea1c2ecc-fb8f-4d64-86de-8b87bfc7e4ab",
   "metadata": {},
   "source": [
    "Some of the popular languages that Data Scientists use are:"
   ]
  },
  {
   "cell_type": "markdown",
   "id": "df0350e9-057d-4321-bb77-605d1b16a185",
   "metadata": {},
   "source": [
    "1. Python\n",
    "2. R\n",
    "3. Java\n",
    "4. Scala\n",
    "5. SQL"
   ]
  },
  {
   "cell_type": "markdown",
   "id": "89b39423-d874-453c-a5d4-597eb5585a85",
   "metadata": {},
   "source": [
    "Some of the commonly used libraries used by Data Scientists include:"
   ]
  },
  {
   "cell_type": "markdown",
   "id": "a9e634da-cc6d-4eaf-9678-80c2d7f5e36e",
   "metadata": {},
   "source": [
    "1. NumPy\n",
    "2. SciPy\n",
    "3. Pandas\n",
    "4. Matplotlib\n",
    "5. Keras"
   ]
  },
  {
   "cell_type": "markdown",
   "id": "4e7a5494-a381-4bb4-9dff-5e7a18c20769",
   "metadata": {},
   "source": [
    "|Data Science Tools |\n",
    "|---------- |\n",
    "|RStudio |\n",
    "|TensorFlow |\n",
    "|Apache Hadoop |"
   ]
  },
  {
   "cell_type": "markdown",
   "id": "f72f46ca-fc7c-4445-a328-06ac9b07a297",
   "metadata": {},
   "source": [
    "### Below are a few examples of evaluating arithmetic expressions in Python"
   ]
  },
  {
   "cell_type": "code",
   "execution_count": null,
   "id": "40f42d0b-f7c2-4860-a1e0-1a33a18b20f8",
   "metadata": {},
   "outputs": [],
   "source": [
    "# This a simple arithmetic expression to multiply then add integers"
   ]
  },
  {
   "cell_type": "code",
   "execution_count": 1,
   "id": "70128b10-3b48-4482-b7ff-2977e35ed6ba",
   "metadata": {},
   "outputs": [
    {
     "data": {
      "text/plain": [
       "17"
      ]
     },
     "execution_count": 1,
     "metadata": {},
     "output_type": "execute_result"
    }
   ],
   "source": [
    "(3*4)+ 5"
   ]
  },
  {
   "cell_type": "code",
   "execution_count": null,
   "id": "63ea64ae-4f67-4c43-93b0-dc4deaaf7450",
   "metadata": {},
   "outputs": [],
   "source": [
    "# This will convert 200 minutes to hours by diving by 60."
   ]
  },
  {
   "cell_type": "code",
   "execution_count": 2,
   "id": "87f131d9-b01a-4bc4-a1c6-ae34235bc416",
   "metadata": {},
   "outputs": [
    {
     "data": {
      "text/plain": [
       "3.3333333333333335"
      ]
     },
     "execution_count": 2,
     "metadata": {},
     "output_type": "execute_result"
    }
   ],
   "source": [
    "200/60"
   ]
  },
  {
   "cell_type": "markdown",
   "id": "347d71d8-997d-4da9-acb7-2ad050dda36b",
   "metadata": {},
   "source": [
    "## Author"
   ]
  },
  {
   "cell_type": "markdown",
   "id": "987b2922-71ba-471d-8966-011138b750ce",
   "metadata": {},
   "source": [
    "Aditi M"
   ]
  },
  {
   "cell_type": "code",
   "execution_count": null,
   "id": "8c8c5615-a61e-4f05-8078-7c46276bb090",
   "metadata": {},
   "outputs": [],
   "source": []
  }
 ],
 "metadata": {
  "kernelspec": {
   "display_name": "Python 3 (ipykernel)",
   "language": "python",
   "name": "python3"
  },
  "language_info": {
   "codemirror_mode": {
    "name": "ipython",
    "version": 3
   },
   "file_extension": ".py",
   "mimetype": "text/x-python",
   "name": "python",
   "nbconvert_exporter": "python",
   "pygments_lexer": "ipython3",
   "version": "3.12.8"
  }
 },
 "nbformat": 4,
 "nbformat_minor": 5
}
